{
 "cells": [
  {
   "cell_type": "markdown",
   "id": "a3b7cdc2",
   "metadata": {},
   "source": [
    "# Example Usage of the Package"
   ]
  },
  {
   "cell_type": "code",
   "execution_count": 30,
   "id": "7ea315f4",
   "metadata": {},
   "outputs": [],
   "source": [
    "import typing\n",
    "from rvispoly import Point, Polygon, PolygonWithHoles, VisibilityPolygonCalculator\n",
    "import matplotlib.pyplot as plt"
   ]
  },
  {
   "cell_type": "code",
   "execution_count": 31,
   "id": "b438491e",
   "metadata": {},
   "outputs": [],
   "source": [
    "# construct a polygon\n",
    "# outer_boundary should be in CCW order, holes CW\n",
    "outer_boundary = [\n",
    "    Point(0, 0), Point(28, 0), Point(28, 6), Point(24, 6), Point(24, 10), Point(28, 10),\n",
    "    Point(28, 24), Point(0, 24), Point(0, 16), Point(4, 16), Point(4, 12), Point(0, 12)\n",
    "]\n",
    "\n",
    "holes = [\n",
    "    [Point(6, 4), Point(6, 8), Point(10, 8), Point(10, 4)],\n",
    "    [Point(12, 4), Point(12, 10), Point(16, 10), Point(16, 8), Point(14, 8), Point(14, 4)],\n",
    "    [Point(4, 18), Point(4, 21), Point(7, 21), Point(7, 18)],\n",
    "    [Point(20, 14), Point(20, 22), Point(23, 22), Point(23, 14)],\n",
    "    [Point(10, 15), Point(10, 17), Point(18, 17), Point(18, 15)]\n",
    "]"
   ]
  },
  {
   "cell_type": "code",
   "execution_count": 32,
   "id": "e5b0cc04",
   "metadata": {},
   "outputs": [],
   "source": [
    "# simple plotting function\n",
    "def plot_polygon(\n",
    "    polygon: typing.Union[Polygon, PolygonWithHoles], color=\"blue\", ax=None, **kwargs\n",
    "):\n",
    "    if ax is None:\n",
    "        ax = plt.gca()\n",
    "    if type(polygon) == PolygonWithHoles:\n",
    "        plot_polygon(polygon.outer_boundary(), color=color, ax=ax, **kwargs)\n",
    "        for hole in polygon.holes():\n",
    "            plot_polygon(hole, color=\"white\")\n",
    "    else:\n",
    "        x = [float(p.x()) for p in polygon.boundary()]\n",
    "        y = [float(p.y()) for p in polygon.boundary()]\n",
    "        ax.fill(x, y, color=color, **kwargs)"
   ]
  },
  {
   "cell_type": "code",
   "execution_count": 33,
   "id": "07797b1a",
   "metadata": {},
   "outputs": [],
   "source": [
    "polygon = PolygonWithHoles(outer_boundary, holes)\n",
    "visp_poly_calc = VisibilityPolygonCalculator(polygon)\n",
    "vis_poly = visp_poly_calc.compute_visibility_polygon(Point(0, 0))"
   ]
  },
  {
   "cell_type": "code",
   "execution_count": 35,
   "id": "0ebc8112",
   "metadata": {},
   "outputs": [
    {
     "data": {
      "text/plain": [
       "[<matplotlib.lines.Line2D at 0x10f7e4130>]"
      ]
     },
     "execution_count": 35,
     "metadata": {},
     "output_type": "execute_result"
    },
    {
     "data": {
      "image/png": "[encoded data removed]",
      "text/plain": [
       "<Figure size 640x480 with 1 Axes>"
      ]
     },
     "metadata": {},
     "output_type": "display_data"
    }
   ],
   "source": [
    "fig, ax = plt.subplots()\n",
    "ax.set_aspect(\"equal\")\n",
    "plt.title(\"r-visibility polygon\")\n",
    "plot_polygon(polygon, ax=ax, color=\"lightgrey\")\n",
    "plot_polygon(vis_poly, ax=ax, color=\"blue\", alpha=0.5)\n",
    "plt.plot([0.0], [0.0], \"x\", color=\"black\")"
   ]
  }
 ],
 "metadata": {
  "kernelspec": {
   "display_name": "alglab",
   "language": "python",
   "name": "python3"
  },
  "language_info": {
   "codemirror_mode": {
    "name": "ipython",
    "version": 3
   },
   "file_extension": ".py",
   "mimetype": "text/x-python",
   "name": "python",
   "nbconvert_exporter": "python",
   "pygments_lexer": "ipython3",
   "version": "3.10.10"
  }
 },
 "nbformat": 4,
 "nbformat_minor": 5
}
